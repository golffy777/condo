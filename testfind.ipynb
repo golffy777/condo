{
 "cells": [
  {
   "cell_type": "code",
   "execution_count": 11,
   "metadata": {},
   "outputs": [],
   "source": [
    "from selenium import webdriver\n",
    "from selenium.webdriver.support.ui import WebDriverWait\n",
    "from selenium.webdriver.support import expected_conditions as EC\n",
    "from selenium.webdriver.common.by import By\n",
    "from selenium.webdriver.common.keys import Keys\n",
    "import pyautogui\n",
    "import time\n",
    "import os\n",
    "import shutil\n",
    "from selenium.webdriver.chrome.options import Options\n",
    "import pandas as pd\n",
    "import numpy as np"
   ]
  },
  {
   "cell_type": "code",
   "execution_count": 12,
   "metadata": {},
   "outputs": [],
   "source": [
    "driver = webdriver.Chrome(executable_path=r'C:\\Users\\Desktop\\Desktop\\ProJect1\\chromedriver.exe')"
   ]
  },
  {
   "cell_type": "code",
   "execution_count": 13,
   "metadata": {},
   "outputs": [],
   "source": [
    "driver.get('https://eclaim3.emcsthai.com/esurvey/frmLogin.aspx')\n",
    "driver.maximize_window()\n",
    "dcwh = driver.current_window_handle\n",
    "driver.find_element_by_id('txtUserName').send_keys('noppadol@se.co.th')\n",
    "driver.find_element_by_id('txtPassWord').send_keys('Somboonkul1501*')\n",
    "driver.find_element_by_id('imbLogin').click()\n",
    "driver.find_element_by_id('btnEnter').click()"
   ]
  },
  {
   "cell_type": "code",
   "execution_count": 14,
   "metadata": {},
   "outputs": [
    {
     "name": "stderr",
     "output_type": "stream",
     "text": [
      "C:\\Users\\Desktop\\AppData\\Local\\Temp/ipykernel_1476/3003755061.py:4: DeprecationWarning: use driver.switch_to.window instead\n",
      "  driver.switch_to_window(dcwh)\n"
     ]
    }
   ],
   "source": [
    "allhandle_windows = driver.window_handles\n",
    "for handle in allhandle_windows:\n",
    "    if handle != dcwh:\n",
    "        driver.switch_to_window(dcwh)"
   ]
  },
  {
   "cell_type": "code",
   "execution_count": 15,
   "metadata": {},
   "outputs": [],
   "source": [
    "time.sleep(2)\n",
    "driver.find_element_by_id('dgvInbox_ctl03_sname').click()"
   ]
  },
  {
   "cell_type": "code",
   "execution_count": 54,
   "metadata": {},
   "outputs": [],
   "source": [
    "all_data = []\n",
    "all_data = driver.find_elements_by_xpath('//*[@id=\"dgvList\"]/tbody/tr')"
   ]
  },
  {
   "cell_type": "code",
   "execution_count": 85,
   "metadata": {},
   "outputs": [],
   "source": [
    "data = []\n",
    "for count, value in enumerate(all_data):\n",
    "    data.append(value.text)\n",
    "    data_frame = pd.DataFrame(data)\n",
    "    data_frame.columns = ['Table']\n",
    "\n",
    "    df_splite = data_frame.Table.str.extract('(\\d\\d\\D{6}\\d{4})(\\s)(\\d\\d\\W\\d\\d)(\\s)(\\D\\d{11})')\n",
    "    df_splite.columns = ['Dmy','blank1', 'Time', 'blank2', 'Claim']\n",
    "    df_s = df_splite.drop(columns=['blank1', 'blank2'])[1:16]\n",
    "    \n",
    "\n",
    "    d = df_s['Dmy'].values\n",
    "    t = df_s['Time'].values\n",
    "    c = df_s['Claim'].values\n",
    "\n",
    "    d_list = list(df_s['Dmy'].values)\n",
    "    t_list = list(df_s['Time'].values)\n",
    "    c_list = list(df_s['Claim'].values)"
   ]
  },
  {
   "cell_type": "code",
   "execution_count": 86,
   "metadata": {},
   "outputs": [
    {
     "data": {
      "text/html": [
       "<div>\n",
       "<style scoped>\n",
       "    .dataframe tbody tr th:only-of-type {\n",
       "        vertical-align: middle;\n",
       "    }\n",
       "\n",
       "    .dataframe tbody tr th {\n",
       "        vertical-align: top;\n",
       "    }\n",
       "\n",
       "    .dataframe thead th {\n",
       "        text-align: right;\n",
       "    }\n",
       "</style>\n",
       "<table border=\"1\" class=\"dataframe\">\n",
       "  <thead>\n",
       "    <tr style=\"text-align: right;\">\n",
       "      <th></th>\n",
       "      <th>Dmy</th>\n",
       "      <th>Time</th>\n",
       "      <th>Claim</th>\n",
       "    </tr>\n",
       "  </thead>\n",
       "  <tbody>\n",
       "    <tr>\n",
       "      <th>1</th>\n",
       "      <td>08/พ.ย./2564</td>\n",
       "      <td>06:56</td>\n",
       "      <td>S68421103837</td>\n",
       "    </tr>\n",
       "    <tr>\n",
       "      <th>2</th>\n",
       "      <td>08/พ.ย./2564</td>\n",
       "      <td>06:51</td>\n",
       "      <td>S68421103825</td>\n",
       "    </tr>\n",
       "    <tr>\n",
       "      <th>3</th>\n",
       "      <td>08/พ.ย./2564</td>\n",
       "      <td>00:07</td>\n",
       "      <td>S68421100647</td>\n",
       "    </tr>\n",
       "    <tr>\n",
       "      <th>4</th>\n",
       "      <td>08/พ.ย./2564</td>\n",
       "      <td>00:02</td>\n",
       "      <td>S68421100587</td>\n",
       "    </tr>\n",
       "    <tr>\n",
       "      <th>5</th>\n",
       "      <td>07/พ.ย./2564</td>\n",
       "      <td>23:58</td>\n",
       "      <td>S68421100554</td>\n",
       "    </tr>\n",
       "    <tr>\n",
       "      <th>6</th>\n",
       "      <td>07/พ.ย./2564</td>\n",
       "      <td>23:56</td>\n",
       "      <td>S68421100511</td>\n",
       "    </tr>\n",
       "    <tr>\n",
       "      <th>7</th>\n",
       "      <td>07/พ.ย./2564</td>\n",
       "      <td>23:51</td>\n",
       "      <td>S68421100509</td>\n",
       "    </tr>\n",
       "    <tr>\n",
       "      <th>8</th>\n",
       "      <td>07/พ.ย./2564</td>\n",
       "      <td>23:45</td>\n",
       "      <td>S68421100429</td>\n",
       "    </tr>\n",
       "    <tr>\n",
       "      <th>9</th>\n",
       "      <td>07/พ.ย./2564</td>\n",
       "      <td>23:31</td>\n",
       "      <td>S68421093040</td>\n",
       "    </tr>\n",
       "    <tr>\n",
       "      <th>10</th>\n",
       "      <td>07/พ.ย./2564</td>\n",
       "      <td>23:26</td>\n",
       "      <td>S68421093032</td>\n",
       "    </tr>\n",
       "    <tr>\n",
       "      <th>11</th>\n",
       "      <td>07/พ.ย./2564</td>\n",
       "      <td>23:24</td>\n",
       "      <td>S68421093029</td>\n",
       "    </tr>\n",
       "    <tr>\n",
       "      <th>12</th>\n",
       "      <td>07/พ.ย./2564</td>\n",
       "      <td>23:21</td>\n",
       "      <td>S68421093016</td>\n",
       "    </tr>\n",
       "    <tr>\n",
       "      <th>13</th>\n",
       "      <td>07/พ.ย./2564</td>\n",
       "      <td>23:13</td>\n",
       "      <td>S68421093015</td>\n",
       "    </tr>\n",
       "    <tr>\n",
       "      <th>14</th>\n",
       "      <td>07/พ.ย./2564</td>\n",
       "      <td>23:08</td>\n",
       "      <td>S68421093012</td>\n",
       "    </tr>\n",
       "    <tr>\n",
       "      <th>15</th>\n",
       "      <td>07/พ.ย./2564</td>\n",
       "      <td>22:48</td>\n",
       "      <td>S68421092985</td>\n",
       "    </tr>\n",
       "  </tbody>\n",
       "</table>\n",
       "</div>"
      ],
      "text/plain": [
       "             Dmy   Time         Claim\n",
       "1   08/พ.ย./2564  06:56  S68421103837\n",
       "2   08/พ.ย./2564  06:51  S68421103825\n",
       "3   08/พ.ย./2564  00:07  S68421100647\n",
       "4   08/พ.ย./2564  00:02  S68421100587\n",
       "5   07/พ.ย./2564  23:58  S68421100554\n",
       "6   07/พ.ย./2564  23:56  S68421100511\n",
       "7   07/พ.ย./2564  23:51  S68421100509\n",
       "8   07/พ.ย./2564  23:45  S68421100429\n",
       "9   07/พ.ย./2564  23:31  S68421093040\n",
       "10  07/พ.ย./2564  23:26  S68421093032\n",
       "11  07/พ.ย./2564  23:24  S68421093029\n",
       "12  07/พ.ย./2564  23:21  S68421093016\n",
       "13  07/พ.ย./2564  23:13  S68421093015\n",
       "14  07/พ.ย./2564  23:08  S68421093012\n",
       "15  07/พ.ย./2564  22:48  S68421092985"
      ]
     },
     "execution_count": 86,
     "metadata": {},
     "output_type": "execute_result"
    }
   ],
   "source": [
    "df_s"
   ]
  },
  {
   "cell_type": "code",
   "execution_count": 87,
   "metadata": {},
   "outputs": [
    {
     "data": {
      "text/plain": [
       "'07/พ.ย./2564'"
      ]
     },
     "execution_count": 87,
     "metadata": {},
     "output_type": "execute_result"
    }
   ],
   "source": [
    "d = '07'\n",
    "m = '/พ.ย./'\n",
    "y = '2564'\n",
    "\n",
    "ddmmyy = d+m+y\n",
    "\n",
    "ddmmyy"
   ]
  },
  {
   "cell_type": "code",
   "execution_count": 88,
   "metadata": {},
   "outputs": [
    {
     "data": {
      "text/html": [
       "<div>\n",
       "<style scoped>\n",
       "    .dataframe tbody tr th:only-of-type {\n",
       "        vertical-align: middle;\n",
       "    }\n",
       "\n",
       "    .dataframe tbody tr th {\n",
       "        vertical-align: top;\n",
       "    }\n",
       "\n",
       "    .dataframe thead th {\n",
       "        text-align: right;\n",
       "    }\n",
       "</style>\n",
       "<table border=\"1\" class=\"dataframe\">\n",
       "  <thead>\n",
       "    <tr style=\"text-align: right;\">\n",
       "      <th></th>\n",
       "      <th>Dmy</th>\n",
       "      <th>Time</th>\n",
       "      <th>Claim</th>\n",
       "    </tr>\n",
       "  </thead>\n",
       "  <tbody>\n",
       "    <tr>\n",
       "      <th>5</th>\n",
       "      <td>07/พ.ย./2564</td>\n",
       "      <td>23:58</td>\n",
       "      <td>S68421100554</td>\n",
       "    </tr>\n",
       "    <tr>\n",
       "      <th>6</th>\n",
       "      <td>07/พ.ย./2564</td>\n",
       "      <td>23:56</td>\n",
       "      <td>S68421100511</td>\n",
       "    </tr>\n",
       "    <tr>\n",
       "      <th>7</th>\n",
       "      <td>07/พ.ย./2564</td>\n",
       "      <td>23:51</td>\n",
       "      <td>S68421100509</td>\n",
       "    </tr>\n",
       "    <tr>\n",
       "      <th>8</th>\n",
       "      <td>07/พ.ย./2564</td>\n",
       "      <td>23:45</td>\n",
       "      <td>S68421100429</td>\n",
       "    </tr>\n",
       "    <tr>\n",
       "      <th>9</th>\n",
       "      <td>07/พ.ย./2564</td>\n",
       "      <td>23:31</td>\n",
       "      <td>S68421093040</td>\n",
       "    </tr>\n",
       "    <tr>\n",
       "      <th>10</th>\n",
       "      <td>07/พ.ย./2564</td>\n",
       "      <td>23:26</td>\n",
       "      <td>S68421093032</td>\n",
       "    </tr>\n",
       "    <tr>\n",
       "      <th>11</th>\n",
       "      <td>07/พ.ย./2564</td>\n",
       "      <td>23:24</td>\n",
       "      <td>S68421093029</td>\n",
       "    </tr>\n",
       "    <tr>\n",
       "      <th>12</th>\n",
       "      <td>07/พ.ย./2564</td>\n",
       "      <td>23:21</td>\n",
       "      <td>S68421093016</td>\n",
       "    </tr>\n",
       "    <tr>\n",
       "      <th>13</th>\n",
       "      <td>07/พ.ย./2564</td>\n",
       "      <td>23:13</td>\n",
       "      <td>S68421093015</td>\n",
       "    </tr>\n",
       "    <tr>\n",
       "      <th>14</th>\n",
       "      <td>07/พ.ย./2564</td>\n",
       "      <td>23:08</td>\n",
       "      <td>S68421093012</td>\n",
       "    </tr>\n",
       "    <tr>\n",
       "      <th>15</th>\n",
       "      <td>07/พ.ย./2564</td>\n",
       "      <td>22:48</td>\n",
       "      <td>S68421092985</td>\n",
       "    </tr>\n",
       "  </tbody>\n",
       "</table>\n",
       "</div>"
      ],
      "text/plain": [
       "             Dmy   Time         Claim\n",
       "5   07/พ.ย./2564  23:58  S68421100554\n",
       "6   07/พ.ย./2564  23:56  S68421100511\n",
       "7   07/พ.ย./2564  23:51  S68421100509\n",
       "8   07/พ.ย./2564  23:45  S68421100429\n",
       "9   07/พ.ย./2564  23:31  S68421093040\n",
       "10  07/พ.ย./2564  23:26  S68421093032\n",
       "11  07/พ.ย./2564  23:24  S68421093029\n",
       "12  07/พ.ย./2564  23:21  S68421093016\n",
       "13  07/พ.ย./2564  23:13  S68421093015\n",
       "14  07/พ.ย./2564  23:08  S68421093012\n",
       "15  07/พ.ย./2564  22:48  S68421092985"
      ]
     },
     "execution_count": 88,
     "metadata": {},
     "output_type": "execute_result"
    }
   ],
   "source": [
    "df_s[df_s.Dmy.str.contains(ddmmyy)]  #ค้นหา"
   ]
  },
  {
   "cell_type": "markdown",
   "metadata": {},
   "source": []
  },
  {
   "cell_type": "markdown",
   "metadata": {},
   "source": [
    "df_s['Check'] = df_s.Dmy.str.match(ddmmyy)"
   ]
  },
  {
   "cell_type": "code",
   "execution_count": 90,
   "metadata": {},
   "outputs": [
    {
     "data": {
      "text/plain": [
       "True"
      ]
     },
     "execution_count": 90,
     "metadata": {},
     "output_type": "execute_result"
    }
   ],
   "source": [
    "cc = df_s.Dmy == ddmmyy\n",
    "\n",
    "checks = cc.any()\n",
    "checks "
   ]
  },
  {
   "cell_type": "code",
   "execution_count": 91,
   "metadata": {},
   "outputs": [
    {
     "name": "stdout",
     "output_type": "stream",
     "text": [
      "             Dmy   Time         Claim\n",
      "5   07/พ.ย./2564  23:58  S68421100554\n",
      "6   07/พ.ย./2564  23:56  S68421100511\n",
      "7   07/พ.ย./2564  23:51  S68421100509\n",
      "8   07/พ.ย./2564  23:45  S68421100429\n",
      "9   07/พ.ย./2564  23:31  S68421093040\n",
      "10  07/พ.ย./2564  23:26  S68421093032\n",
      "11  07/พ.ย./2564  23:24  S68421093029\n",
      "12  07/พ.ย./2564  23:21  S68421093016\n",
      "13  07/พ.ย./2564  23:13  S68421093015\n",
      "14  07/พ.ย./2564  23:08  S68421093012\n",
      "15  07/พ.ย./2564  22:48  S68421092985\n"
     ]
    }
   ],
   "source": [
    "if checks == True:\n",
    "    for count , value in enumerate(cc):\n",
    "        if value == True:\n",
    "            #print('Go to  create Report,Picture,Invoice')\n",
    "            print(df_s[df_s.Dmy.str.contains(ddmmyy)])\n",
    "            break\n",
    "        else: pass"
   ]
  },
  {
   "cell_type": "code",
   "execution_count": 92,
   "metadata": {},
   "outputs": [],
   "source": [
    "check = df_s.Dmy.str.match(ddmmyy).any()"
   ]
  },
  {
   "cell_type": "code",
   "execution_count": 93,
   "metadata": {},
   "outputs": [
    {
     "data": {
      "text/plain": [
       "True"
      ]
     },
     "execution_count": 93,
     "metadata": {},
     "output_type": "execute_result"
    }
   ],
   "source": [
    "check"
   ]
  },
  {
   "cell_type": "code",
   "execution_count": 105,
   "metadata": {},
   "outputs": [],
   "source": [
    "import pandas as pd\n",
    "items = [10,20,30,40,50,60,70,80,90]\n",
    "cols = ['A']\n",
    "\n",
    "df = pd.DataFrame(items,columns=cols)"
   ]
  },
  {
   "cell_type": "code",
   "execution_count": 106,
   "metadata": {},
   "outputs": [
    {
     "data": {
      "text/html": [
       "<div>\n",
       "<style scoped>\n",
       "    .dataframe tbody tr th:only-of-type {\n",
       "        vertical-align: middle;\n",
       "    }\n",
       "\n",
       "    .dataframe tbody tr th {\n",
       "        vertical-align: top;\n",
       "    }\n",
       "\n",
       "    .dataframe thead th {\n",
       "        text-align: right;\n",
       "    }\n",
       "</style>\n",
       "<table border=\"1\" class=\"dataframe\">\n",
       "  <thead>\n",
       "    <tr style=\"text-align: right;\">\n",
       "      <th></th>\n",
       "      <th>A</th>\n",
       "    </tr>\n",
       "  </thead>\n",
       "  <tbody>\n",
       "    <tr>\n",
       "      <th>0</th>\n",
       "      <td>10</td>\n",
       "    </tr>\n",
       "    <tr>\n",
       "      <th>1</th>\n",
       "      <td>20</td>\n",
       "    </tr>\n",
       "    <tr>\n",
       "      <th>2</th>\n",
       "      <td>30</td>\n",
       "    </tr>\n",
       "    <tr>\n",
       "      <th>3</th>\n",
       "      <td>40</td>\n",
       "    </tr>\n",
       "    <tr>\n",
       "      <th>4</th>\n",
       "      <td>50</td>\n",
       "    </tr>\n",
       "    <tr>\n",
       "      <th>5</th>\n",
       "      <td>60</td>\n",
       "    </tr>\n",
       "    <tr>\n",
       "      <th>6</th>\n",
       "      <td>70</td>\n",
       "    </tr>\n",
       "    <tr>\n",
       "      <th>7</th>\n",
       "      <td>80</td>\n",
       "    </tr>\n",
       "    <tr>\n",
       "      <th>8</th>\n",
       "      <td>90</td>\n",
       "    </tr>\n",
       "  </tbody>\n",
       "</table>\n",
       "</div>"
      ],
      "text/plain": [
       "    A\n",
       "0  10\n",
       "1  20\n",
       "2  30\n",
       "3  40\n",
       "4  50\n",
       "5  60\n",
       "6  70\n",
       "7  80\n",
       "8  90"
      ]
     },
     "execution_count": 106,
     "metadata": {},
     "output_type": "execute_result"
    }
   ],
   "source": [
    "df"
   ]
  },
  {
   "cell_type": "code",
   "execution_count": 107,
   "metadata": {},
   "outputs": [],
   "source": [
    "bl = df.A<=40 # .A คือ column"
   ]
  },
  {
   "cell_type": "code",
   "execution_count": 108,
   "metadata": {},
   "outputs": [
    {
     "name": "stdout",
     "output_type": "stream",
     "text": [
      "idx 4 มีค่า = False\n",
      "idx 5 มีค่า = False\n",
      "idx 6 มีค่า = False\n",
      "idx 7 มีค่า = False\n",
      "idx 8 มีค่า = False\n"
     ]
    }
   ],
   "source": [
    "for idx , values in df.iterrows():\n",
    "    if bl.loc[idx]==True:\n",
    "        pass\n",
    "        #print('idx '+str(idx)+' มีค่า = True')\n",
    "    else: print('idx '+str(idx)+' มีค่า = False')"
   ]
  },
  {
   "cell_type": "code",
   "execution_count": null,
   "metadata": {},
   "outputs": [],
   "source": []
  }
 ],
 "metadata": {
  "interpreter": {
   "hash": "01cf2d930fa887d74b57002510a424a4152298948573e7ea1486452d2c5f8ce9"
  },
  "kernelspec": {
   "display_name": "Python 3.9.6 64-bit",
   "name": "python3"
  },
  "language_info": {
   "codemirror_mode": {
    "name": "ipython",
    "version": 3
   },
   "file_extension": ".py",
   "mimetype": "text/x-python",
   "name": "python",
   "nbconvert_exporter": "python",
   "pygments_lexer": "ipython3",
   "version": "3.9.6"
  },
  "orig_nbformat": 4
 },
 "nbformat": 4,
 "nbformat_minor": 2
}
