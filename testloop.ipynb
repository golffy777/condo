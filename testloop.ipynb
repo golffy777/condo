{
 "cells": [
  {
   "cell_type": "code",
   "execution_count": 6,
   "metadata": {},
   "outputs": [],
   "source": [
    "from selenium import webdriver\n",
    "from selenium.webdriver.support.ui import WebDriverWait\n",
    "from selenium.webdriver.support import expected_conditions as EC\n",
    "from selenium.webdriver.common.by import By\n",
    "from selenium.webdriver.common.keys import Keys\n",
    "import pyautogui\n",
    "import time\n",
    "import os\n",
    "import shutil\n",
    "from selenium.webdriver.chrome.options import Options\n",
    "import pandas as pd"
   ]
  },
  {
   "cell_type": "code",
   "execution_count": 7,
   "metadata": {},
   "outputs": [],
   "source": [
    "driver = webdriver.Chrome(executable_path=r'C:\\Users\\Desktop\\Desktop\\ProJect1\\chromedriver.exe')"
   ]
  },
  {
   "cell_type": "code",
   "execution_count": 8,
   "metadata": {},
   "outputs": [],
   "source": [
    "driver.get('https://eclaim3.emcsthai.com/esurvey/frmLogin.aspx')\n",
    "driver.maximize_window()\n",
    "dcwh = driver.current_window_handle\n",
    "driver.find_element_by_id('txtUserName').send_keys('noppadol@se.co.th')\n",
    "driver.find_element_by_id('txtPassWord').send_keys('Sesurvey1501*')\n",
    "driver.find_element_by_id('imbLogin').click()\n",
    "driver.find_element_by_id('btnEnter').click()"
   ]
  },
  {
   "cell_type": "code",
   "execution_count": 9,
   "metadata": {},
   "outputs": [
    {
     "name": "stderr",
     "output_type": "stream",
     "text": [
      "C:\\Users\\Desktop\\AppData\\Local\\Temp/ipykernel_13868/3003755061.py:4: DeprecationWarning: use driver.switch_to.window instead\n",
      "  driver.switch_to_window(dcwh)\n"
     ]
    }
   ],
   "source": [
    "allhandle_windows = driver.window_handles\n",
    "for handle in allhandle_windows:\n",
    "    if handle != dcwh:\n",
    "        driver.switch_to_window(dcwh)"
   ]
  },
  {
   "cell_type": "code",
   "execution_count": 10,
   "metadata": {},
   "outputs": [],
   "source": [
    "time.sleep(2)\n",
    "driver.find_element_by_id('dgvInbox_ctl03_sname').click()"
   ]
  },
  {
   "cell_type": "code",
   "execution_count": 11,
   "metadata": {},
   "outputs": [],
   "source": [
    "data = driver.find_elements_by_xpath('//*[@id=\"dgvList\"]/tbody/tr')"
   ]
  },
  {
   "cell_type": "code",
   "execution_count": 12,
   "metadata": {},
   "outputs": [],
   "source": [
    "all_data = []\n",
    "for count , value in enumerate(data):\n",
    "    if count > 0 and count < 16:\n",
    "        all_data.append(value.text)\n",
    "        data_frame = pd.DataFrame(all_data)\n",
    "        data_frame.columns = ['Table']\n",
    "\n",
    "        df_splite = data_frame.Table.str.extract('(\\d\\d)(\\D{6})(\\d{4})(\\s)(\\d\\d\\W\\d\\d)(\\s)(\\D\\d{11})')\n",
    "        df_splite.columns = ['Day', 'Month', 'Year','blank1', 'Time', 'blank2', 'Claim']\n",
    "        df_s = df_splite.drop(columns=['blank1', 'blank2'])\n",
    "\n",
    "        d = df_s['Day'].values\n",
    "        m = df_s['Month'].values\n",
    "        t = df_s['Time'].values\n",
    "        y = df_s['Year'].values\n",
    "        c = df_s['Claim'].values\n",
    "\n",
    "        d_list = list(df_s['Day'].values)\n",
    "        m_list = list(df_s['Month'].values)\n",
    "        t_list = list(df_s['Time'].values)\n",
    "        y_list = list(df_s['Year'].values)\n",
    "        c_list = list(df_s['Claim'].values)"
   ]
  },
  {
   "cell_type": "code",
   "execution_count": 13,
   "metadata": {},
   "outputs": [],
   "source": [
    "day = '18'\n",
    "month = '/ก.ย./'\n",
    "year = '2564'"
   ]
  },
  {
   "cell_type": "code",
   "execution_count": 14,
   "metadata": {},
   "outputs": [
    {
     "data": {
      "text/html": [
       "<div>\n",
       "<style scoped>\n",
       "    .dataframe tbody tr th:only-of-type {\n",
       "        vertical-align: middle;\n",
       "    }\n",
       "\n",
       "    .dataframe tbody tr th {\n",
       "        vertical-align: top;\n",
       "    }\n",
       "\n",
       "    .dataframe thead th {\n",
       "        text-align: right;\n",
       "    }\n",
       "</style>\n",
       "<table border=\"1\" class=\"dataframe\">\n",
       "  <thead>\n",
       "    <tr style=\"text-align: right;\">\n",
       "      <th></th>\n",
       "      <th>Day</th>\n",
       "      <th>Month</th>\n",
       "      <th>Year</th>\n",
       "      <th>Time</th>\n",
       "      <th>Claim</th>\n",
       "    </tr>\n",
       "  </thead>\n",
       "  <tbody>\n",
       "    <tr>\n",
       "      <th>0</th>\n",
       "      <td>18</td>\n",
       "      <td>/ต.ค./</td>\n",
       "      <td>2564</td>\n",
       "      <td>20:08</td>\n",
       "      <td>S68421101687</td>\n",
       "    </tr>\n",
       "    <tr>\n",
       "      <th>1</th>\n",
       "      <td>18</td>\n",
       "      <td>/ต.ค./</td>\n",
       "      <td>2564</td>\n",
       "      <td>20:05</td>\n",
       "      <td>S68421102159</td>\n",
       "    </tr>\n",
       "    <tr>\n",
       "      <th>2</th>\n",
       "      <td>18</td>\n",
       "      <td>/ต.ค./</td>\n",
       "      <td>2564</td>\n",
       "      <td>20:04</td>\n",
       "      <td>S68421101085</td>\n",
       "    </tr>\n",
       "    <tr>\n",
       "      <th>3</th>\n",
       "      <td>18</td>\n",
       "      <td>/ต.ค./</td>\n",
       "      <td>2564</td>\n",
       "      <td>19:58</td>\n",
       "      <td>S68421102010</td>\n",
       "    </tr>\n",
       "    <tr>\n",
       "      <th>4</th>\n",
       "      <td>18</td>\n",
       "      <td>/ต.ค./</td>\n",
       "      <td>2564</td>\n",
       "      <td>19:52</td>\n",
       "      <td>S68421101965</td>\n",
       "    </tr>\n",
       "    <tr>\n",
       "      <th>5</th>\n",
       "      <td>18</td>\n",
       "      <td>/ต.ค./</td>\n",
       "      <td>2564</td>\n",
       "      <td>19:41</td>\n",
       "      <td>S68421101939</td>\n",
       "    </tr>\n",
       "    <tr>\n",
       "      <th>6</th>\n",
       "      <td>18</td>\n",
       "      <td>/ต.ค./</td>\n",
       "      <td>2564</td>\n",
       "      <td>19:34</td>\n",
       "      <td>S68421102391</td>\n",
       "    </tr>\n",
       "    <tr>\n",
       "      <th>7</th>\n",
       "      <td>18</td>\n",
       "      <td>/ต.ค./</td>\n",
       "      <td>2564</td>\n",
       "      <td>19:29</td>\n",
       "      <td>S68421102247</td>\n",
       "    </tr>\n",
       "    <tr>\n",
       "      <th>8</th>\n",
       "      <td>18</td>\n",
       "      <td>/ต.ค./</td>\n",
       "      <td>2564</td>\n",
       "      <td>19:23</td>\n",
       "      <td>S68421101134</td>\n",
       "    </tr>\n",
       "    <tr>\n",
       "      <th>9</th>\n",
       "      <td>18</td>\n",
       "      <td>/ต.ค./</td>\n",
       "      <td>2564</td>\n",
       "      <td>19:22</td>\n",
       "      <td>S68421102243</td>\n",
       "    </tr>\n",
       "    <tr>\n",
       "      <th>10</th>\n",
       "      <td>18</td>\n",
       "      <td>/ต.ค./</td>\n",
       "      <td>2564</td>\n",
       "      <td>19:19</td>\n",
       "      <td>S68421102242</td>\n",
       "    </tr>\n",
       "    <tr>\n",
       "      <th>11</th>\n",
       "      <td>18</td>\n",
       "      <td>/ต.ค./</td>\n",
       "      <td>2564</td>\n",
       "      <td>19:17</td>\n",
       "      <td>S68421100812</td>\n",
       "    </tr>\n",
       "    <tr>\n",
       "      <th>12</th>\n",
       "      <td>18</td>\n",
       "      <td>/ต.ค./</td>\n",
       "      <td>2564</td>\n",
       "      <td>19:14</td>\n",
       "      <td>S68421102241</td>\n",
       "    </tr>\n",
       "    <tr>\n",
       "      <th>13</th>\n",
       "      <td>18</td>\n",
       "      <td>/ต.ค./</td>\n",
       "      <td>2564</td>\n",
       "      <td>19:08</td>\n",
       "      <td>S68421102227</td>\n",
       "    </tr>\n",
       "    <tr>\n",
       "      <th>14</th>\n",
       "      <td>18</td>\n",
       "      <td>/ต.ค./</td>\n",
       "      <td>2564</td>\n",
       "      <td>19:04</td>\n",
       "      <td>S68421102221</td>\n",
       "    </tr>\n",
       "  </tbody>\n",
       "</table>\n",
       "</div>"
      ],
      "text/plain": [
       "   Day   Month  Year   Time         Claim\n",
       "0   18  /ต.ค./  2564  20:08  S68421101687\n",
       "1   18  /ต.ค./  2564  20:05  S68421102159\n",
       "2   18  /ต.ค./  2564  20:04  S68421101085\n",
       "3   18  /ต.ค./  2564  19:58  S68421102010\n",
       "4   18  /ต.ค./  2564  19:52  S68421101965\n",
       "5   18  /ต.ค./  2564  19:41  S68421101939\n",
       "6   18  /ต.ค./  2564  19:34  S68421102391\n",
       "7   18  /ต.ค./  2564  19:29  S68421102247\n",
       "8   18  /ต.ค./  2564  19:23  S68421101134\n",
       "9   18  /ต.ค./  2564  19:22  S68421102243\n",
       "10  18  /ต.ค./  2564  19:19  S68421102242\n",
       "11  18  /ต.ค./  2564  19:17  S68421100812\n",
       "12  18  /ต.ค./  2564  19:14  S68421102241\n",
       "13  18  /ต.ค./  2564  19:08  S68421102227\n",
       "14  18  /ต.ค./  2564  19:04  S68421102221"
      ]
     },
     "execution_count": 14,
     "metadata": {},
     "output_type": "execute_result"
    }
   ],
   "source": [
    "df_s"
   ]
  },
  {
   "cell_type": "code",
   "execution_count": 15,
   "metadata": {},
   "outputs": [
    {
     "name": "stdout",
     "output_type": "stream",
     "text": [
      "0 18\n",
      "hello\n",
      "1 18\n",
      "hello\n",
      "2 18\n",
      "hello\n",
      "3 18\n",
      "hello\n",
      "4 18\n",
      "hello\n",
      "5 18\n",
      "hello\n",
      "6 18\n",
      "hello\n",
      "7 18\n",
      "hello\n",
      "8 18\n",
      "hello\n",
      "9 18\n",
      "hello\n",
      "10 18\n",
      "hello\n",
      "11 18\n",
      "hello\n",
      "12 18\n",
      "hello\n",
      "13 18\n",
      "hello\n",
      "14 18\n",
      "hello\n"
     ]
    }
   ],
   "source": [
    "for count , value in enumerate(d_list):\n",
    "    if value == '18':\n",
    "        print(count,value)\n",
    "        print('hello')"
   ]
  },
  {
   "cell_type": "code",
   "execution_count": null,
   "metadata": {},
   "outputs": [],
   "source": []
  }
 ],
 "metadata": {
  "interpreter": {
   "hash": "01cf2d930fa887d74b57002510a424a4152298948573e7ea1486452d2c5f8ce9"
  },
  "kernelspec": {
   "display_name": "Python 3.9.6 64-bit",
   "name": "python3"
  },
  "language_info": {
   "codemirror_mode": {
    "name": "ipython",
    "version": 3
   },
   "file_extension": ".py",
   "mimetype": "text/x-python",
   "name": "python",
   "nbconvert_exporter": "python",
   "pygments_lexer": "ipython3",
   "version": "3.9.6"
  },
  "orig_nbformat": 4
 },
 "nbformat": 4,
 "nbformat_minor": 2
}
