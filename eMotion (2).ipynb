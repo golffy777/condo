{
    "cells": [
        {
            "cell_type": "code",
            "execution_count": 25,
            "source": [
                "from selenium import webdriver\r\n",
                "import requests\r\n",
                "import bs4\r\n",
                "import pandas as pd\r\n",
                "import re\r\n",
                "import time\r\n",
                "from selenium.webdriver.common.keys import Keys\r\n"
            ],
            "outputs": [],
            "metadata": {}
        },
        {
            "cell_type": "code",
            "execution_count": 26,
            "source": [
                "def check_TF(day,month,year):\r\n",
                "    if check == True:\r\n",
                "        print('เจอวันที่ ' + day + ' ในระบบ')\r\n",
                "        check_true()\r\n",
                "    else:\r\n",
                "        print('ไม่เจอวันที่ ' + day + ' ในหน้าที่ 1')\r\n",
                "        print('กรุณาเปลี่ยนหน้า')"
            ],
            "outputs": [],
            "metadata": {}
        },
        {
            "cell_type": "code",
            "execution_count": 52,
            "source": [
                "def check_true():\r\n",
                "   \r\n",
                "    d = dmcsplit['Day'].values\r\n",
                "    m = dmcsplit['Month'].values\r\n",
                "    t = dmcsplit['Time'].values\r\n",
                "    y = dmcsplit['Year'].values\r\n",
                "    c = dmcsplit['Claim'].values\r\n",
                "    link =1\r\n",
                "    \r\n",
                "    try:\r\n",
                "        \r\n",
                "        for count , value in enumerate(d):\r\n",
                "            if day == value:\r\n",
                "                print(count,value,m[count],y[count],c[count])\r\n",
                "            if count == 14 and value == day:\r\n",
                "                link +=1\r\n",
                "                print(link)\r\n",
                "                #driver.find_element_by_xpath('//*[@id=\"dgvList\"]/tbody/tr[17]/td/table/tbody/tr/td['+str(page)+']/a').click()\r\n",
                "                    \r\n",
                "    except:\r\n",
                "        print('โปรแกรม Error อยู่หน้าเดิม')\r\n",
                "        #driver.find_element_by_xpath('//*[@id=\"dgvList\"]/tbody/tr[17]/td/table/tbody/tr/td[1]/a').click()\r\n",
                "        \r\n"
            ],
            "outputs": [],
            "metadata": {}
        },
        {
            "cell_type": "code",
            "execution_count": 28,
            "source": [
                "driver = webdriver.Chrome(executable_path=r'C:\\Users\\sarav\\Desktop\\ProJect1\\chromedriver.exe')\r\n",
                "driver.get('https://eclaim3.emcsthai.com/esurvey/frmLogin.aspx')\r\n",
                "driver.maximize_window()\r\n",
                "dcwh = driver.current_window_handle\r\n",
                "driver.find_element_by_id('txtUserName').send_keys('noppadol@se.co.th')\r\n",
                "driver.find_element_by_id('txtPassWord').send_keys('Sesurvey1501*')\r\n",
                "driver.find_element_by_id('imbLogin').click()\r\n",
                "driver.find_element_by_id('btnEnter').click()\r\n",
                "\r\n",
                "\r\n",
                "\r\n",
                "allhandle_windows = driver.window_handles\r\n",
                "for handle in allhandle_windows:\r\n",
                "    if handle != dcwh:\r\n",
                "        driver.switch_to_window(dcwh)\r\n",
                "\r\n",
                "driver.find_element_by_id('dgvInbox_ctl03_sname').click()\r\n"
            ],
            "outputs": [
                {
                    "output_type": "stream",
                    "name": "stderr",
                    "text": [
                        "C:\\Users\\sarav\\AppData\\Local\\Temp/ipykernel_11340/1664565183.py:15: DeprecationWarning: use driver.switch_to.window instead\n",
                        "  driver.switch_to_window(dcwh)\n"
                    ]
                }
            ],
            "metadata": {}
        },
        {
            "cell_type": "markdown",
            "source": [
                "data = driver.find_elements_by_xpath('//*[@id=\"dgvList\"]/tbody/tr')  # 1\r\n"
            ],
            "metadata": {}
        },
        {
            "cell_type": "markdown",
            "source": [
                "alldata = [] #2\r\n",
                "\r\n",
                "i = 1\r\n",
                "for i in range(len(data)):  \r\n",
                "    if  i > 0 and i < 16:\r\n",
                "        alldata.append(data[i].text)\r\n",
                "        i += 1\r\n"
            ],
            "metadata": {}
        },
        {
            "cell_type": "markdown",
            "source": [
                "df = pd.DataFrame(alldata) #3\r\n",
                "df.columns=['Table']\r\n"
            ],
            "metadata": {}
        },
        {
            "cell_type": "markdown",
            "source": [
                "dm = df.Table.str.extract('(\\d\\d\\D{6}\\d{4}\\s\\d\\d\\W\\d\\d)(\\D\\D\\d{11}\\s\\s\\D)') #4\r\n",
                "dm.columns=['Day/Time','e-Survey']\r\n"
            ],
            "metadata": {}
        },
        {
            "cell_type": "markdown",
            "source": [
                "dmc = df.Table.str.extract('(.+)SEAIO') #5\r\n",
                "dmc.columns=['DayMonthClaim']\r\n",
                "dmcsplit= dmc.DayMonthClaim.str.extract('(\\d\\d)(\\D{6})(\\d{4})(\\s\\d\\d\\W\\d\\d)(\\D\\D\\d{11})')\r\n",
                "dmcsplit.columns=['Day', 'Month', 'Year', 'Time', 'Claim']\r\n",
                "\r\n",
                "dmcsplit\r\n"
            ],
            "metadata": {}
        },
        {
            "cell_type": "code",
            "execution_count": 48,
            "source": [
                "data = driver.find_elements_by_xpath('//*[@id=\"dgvList\"]/tbody/tr')  # 1\r\n",
                "alldata = []  # 2\r\n",
                "\r\n",
                "i = 1\r\n",
                "for i in range(len(data)):\r\n",
                "        if i > 0 and i < 16:\r\n",
                "                alldata.append(data[i].text)\r\n",
                "                i += 1\r\n",
                "\r\n",
                "df = pd.DataFrame(alldata)  # 3\r\n",
                "df.columns = ['Table']\r\n",
                "\r\n",
                "dm = df.Table.str.extract('(\\d\\d\\D{6}\\d{4}\\s\\d\\d\\W\\d\\d)(\\D\\D\\d{11}\\s\\s\\D)')  # 4\r\n",
                "dm.columns = ['Day/Time', 'e-Survey']\r\n",
                "\r\n",
                "\r\n",
                "dmc = df.Table.str.extract('(.+)SEAIO')  # 5\r\n",
                "dmc.columns = ['DayMonthClaim']\r\n",
                "dmcsplit = dmc.DayMonthClaim.str.extract('(\\d\\d)(\\D{6})(\\d{4})(\\s\\d\\d\\W\\d\\d)(\\D\\D\\d{11})')\r\n",
                "dmcsplit.columns = ['Day', 'Month', 'Year', 'Time', 'Claim']"
            ],
            "outputs": [],
            "metadata": {}
        },
        {
            "cell_type": "code",
            "execution_count": 51,
            "source": [
                "print('กรอกวันที่')\r\n",
                "day = input()\r\n",
                "month = '/ก.ย./'\r\n",
                "year = '2564'\r\n",
                "\r\n",
                "check = day in dmcsplit['Day'].values and month in dmcsplit['Month'].values and year in dmcsplit['Year'].values\r\n",
                "check_TF(day, month, year)"
            ],
            "outputs": [
                {
                    "output_type": "stream",
                    "name": "stdout",
                    "text": [
                        "กรอกวันที่\n",
                        "ไม่เจอวันที่ 08 ในหน้าที่ 1\n",
                        "กรุณาเปลี่ยนหน้า\n"
                    ]
                }
            ],
            "metadata": {}
        },
        {
            "cell_type": "code",
            "execution_count": 37,
            "source": [
                "zz = 1\r\n",
                "while zz<5:\r\n",
                "    print('kkkkk')\r\n",
                "    zz+=1"
            ],
            "outputs": [
                {
                    "output_type": "stream",
                    "name": "stdout",
                    "text": [
                        "kkkkk\n",
                        "kkkkk\n",
                        "kkkkk\n",
                        "kkkkk\n"
                    ]
                }
            ],
            "metadata": {}
        }
    ],
    "metadata": {
        "orig_nbformat": 4,
        "language_info": {
            "name": "python",
            "version": "3.9.6",
            "mimetype": "text/x-python",
            "codemirror_mode": {
                "name": "ipython",
                "version": 3
            },
            "pygments_lexer": "ipython3",
            "nbconvert_exporter": "python",
            "file_extension": ".py"
        },
        "kernelspec": {
            "name": "python3",
            "display_name": "Python 3.9.6 64-bit"
        },
        "interpreter": {
            "hash": "63fd5069d213b44bf678585dea6b12cceca9941eaf7f819626cde1f2670de90d"
        }
    },
    "nbformat": 4,
    "nbformat_minor": 2
}