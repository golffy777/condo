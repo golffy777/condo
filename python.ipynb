{
 "cells": [
  {
   "cell_type": "code",
   "execution_count": 6,
   "metadata": {},
   "outputs": [
    {
     "name": "stdout",
     "output_type": "stream",
     "text": [
      "Yes\n"
     ]
    }
   ],
   "source": [
    "xx = 'over the rainbow'\n",
    "\n",
    "if 'ov' in xx :\n",
    "    print('Yes')\n",
    "else:print('No')"
   ]
  },
  {
   "cell_type": "code",
   "execution_count": 10,
   "metadata": {},
   "outputs": [
    {
     "name": "stdout",
     "output_type": "stream",
     "text": [
      "25\n",
      "2\n"
     ]
    }
   ],
   "source": [
    "def x(y):\n",
    "    return y * 5 \n",
    "\n",
    "f = x(5)\n",
    "\n",
    "def z(i):\n",
    "    print(i)\n",
    "\n",
    "print(f)\n",
    "\n",
    "z(2)"
   ]
  },
  {
   "cell_type": "code",
   "execution_count": 7,
   "metadata": {},
   "outputs": [
    {
     "name": "stdout",
     "output_type": "stream",
     "text": [
      "1.Lily\n",
      "2.Jasmin\n",
      "3.Rose\n",
      "4.Ivy\n"
     ]
    }
   ],
   "source": [
    "def loop():\n",
    "    flower = 'lily','jasmin','rose','ivy'\n",
    "    for i in range(len(flower)):\n",
    "        print(i+1,flower[i].capitalize(),sep='.')\n",
    "\n",
    "loop()"
   ]
  },
  {
   "cell_type": "code",
   "execution_count": 11,
   "metadata": {},
   "outputs": [
    {
     "name": "stdout",
     "output_type": "stream",
     "text": [
      "0 = 32.0\n",
      "1 = 33.8\n",
      "2 = 35.6\n",
      "3 = 37.4\n",
      "4 = 39.2\n",
      "5 = 41.0\n",
      "6 = 42.8\n",
      "7 = 44.6\n",
      "8 = 46.4\n",
      "9 = 48.2\n",
      "10 = 50.0\n",
      "11 = 51.8\n",
      "12 = 53.6\n",
      "13 = 55.4\n",
      "14 = 57.2\n",
      "15 = 59.0\n",
      "16 = 60.8\n",
      "17 = 62.6\n",
      "18 = 64.4\n",
      "19 = 66.2\n",
      "20 = 68.0\n"
     ]
    }
   ],
   "source": [
    "def xx():\n",
    "    for i in range(21):\n",
    "        f =(i *9 /5) + 32\n",
    "        print('{} = {}'.format(i,f))\n",
    "    \n",
    "xx()"
   ]
  },
  {
   "cell_type": "code",
   "execution_count": 11,
   "metadata": {},
   "outputs": [],
   "source": [
    "def multi(from_n , to_n):\n",
    "    for i in range(from_n,to_n +1):\n",
    "        for j in range(1,13):\n",
    "            print('{} x {} = {}' .format(i,j,i*j))\n",
    "        print('*' * 40)"
   ]
  },
  {
   "cell_type": "code",
   "execution_count": 12,
   "metadata": {},
   "outputs": [
    {
     "name": "stdout",
     "output_type": "stream",
     "text": [
      "2 x 1 = 2\n",
      "2 x 2 = 4\n",
      "2 x 3 = 6\n",
      "2 x 4 = 8\n",
      "2 x 5 = 10\n",
      "2 x 6 = 12\n",
      "2 x 7 = 14\n",
      "2 x 8 = 16\n",
      "2 x 9 = 18\n",
      "2 x 10 = 20\n",
      "2 x 11 = 22\n",
      "2 x 12 = 24\n",
      "****************************************\n",
      "3 x 1 = 3\n",
      "3 x 2 = 6\n",
      "3 x 3 = 9\n",
      "3 x 4 = 12\n",
      "3 x 5 = 15\n",
      "3 x 6 = 18\n",
      "3 x 7 = 21\n",
      "3 x 8 = 24\n",
      "3 x 9 = 27\n",
      "3 x 10 = 30\n",
      "3 x 11 = 33\n",
      "3 x 12 = 36\n",
      "****************************************\n"
     ]
    }
   ],
   "source": [
    "multi(2,3)"
   ]
  },
  {
   "cell_type": "code",
   "execution_count": 16,
   "metadata": {},
   "outputs": [
    {
     "name": "stdout",
     "output_type": "stream",
     "text": [
      "0. 1\n",
      "1. 2\n",
      "2. 3\n"
     ]
    }
   ],
   "source": [
    "f = '1','2','3'\n",
    "\n",
    "for count , value in enumerate(f):\n",
    "    #print(count,value)\n",
    "    print('{}. {}'.format(count,value))"
   ]
  },
  {
   "cell_type": "code",
   "execution_count": 24,
   "metadata": {},
   "outputs": [
    {
     "name": "stdout",
     "output_type": "stream",
     "text": [
      "ไทย\n",
      "ญี่ปุ่น\n",
      "เกาหลี\n"
     ]
    }
   ],
   "source": [
    "def loop_list2():\n",
    "    ct = [\n",
    "        ('th','Thailand','ไทย'),\n",
    "        ('jp','Japan','ญี่ปุ่น'),\n",
    "        ('kr','Korea','เกาหลี')\n",
    "]\n",
    "\n",
    "    for country in ct:\n",
    "        print(country[2])\n",
    "\n",
    "loop_list2()\n"
   ]
  },
  {
   "cell_type": "code",
   "execution_count": 34,
   "metadata": {},
   "outputs": [
    {
     "name": "stdout",
     "output_type": "stream",
     "text": [
      "[]\n"
     ]
    }
   ],
   "source": [
    "def loop3():\n",
    "    flower = ['apple','orange']\n",
    "    for x in range(len(flower)):\n",
    "        flower[x] = flower[x].capitalize()\n",
    "\n",
    "    flower.clear()\n",
    "\n",
    "    print(flower)\n",
    "\n",
    "loop3()"
   ]
  },
  {
   "cell_type": "code",
   "execution_count": null,
   "metadata": {},
   "outputs": [],
   "source": []
  }
 ],
 "metadata": {
  "interpreter": {
   "hash": "01cf2d930fa887d74b57002510a424a4152298948573e7ea1486452d2c5f8ce9"
  },
  "kernelspec": {
   "display_name": "Python 3.9.6 64-bit",
   "name": "python3"
  },
  "language_info": {
   "codemirror_mode": {
    "name": "ipython",
    "version": 3
   },
   "file_extension": ".py",
   "mimetype": "text/x-python",
   "name": "python",
   "nbconvert_exporter": "python",
   "pygments_lexer": "ipython3",
   "version": "3.9.6"
  },
  "orig_nbformat": 4
 },
 "nbformat": 4,
 "nbformat_minor": 2
}
